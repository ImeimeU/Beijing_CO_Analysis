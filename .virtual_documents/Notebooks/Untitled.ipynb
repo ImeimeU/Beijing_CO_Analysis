import matplotlib.pyplot as plt
import pandas as pd
import plotly.express as px
import pytz
from sklearn.linear_model import LinearRegression
from sklearn.metrics import mean_absolute_error


df = pd.read_csv('E:/InSAR/DS_Projects/Beijing_CO_analysis/Data/CO_hourly_average.csv')


df = df.rename(columns ={'Date and time':'timestamp', 'Average of CO(Hourly Average)': 'CO'})


df.head()


df.shape


df = df.rename(columns={'Date and Time':'timestamp'})


df.head()


df = df.set_index('timestamp')


df.head()



